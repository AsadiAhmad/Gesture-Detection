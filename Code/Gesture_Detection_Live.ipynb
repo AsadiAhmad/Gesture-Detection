{
  "cells": [
    {
      "cell_type": "markdown",
      "metadata": {
        "id": "FCbJU1Imufkk"
      },
      "source": [
        "# Step 1: Import Libraries"
      ]
    },
    {
      "cell_type": "code",
      "execution_count": 45,
      "metadata": {
        "id": "ZCFmKouxuizT"
      },
      "outputs": [],
      "source": [
        "import math\n",
        "import numpy as np\n",
        "import cv2 as cv\n",
        "import gdown\n",
        "import time"
      ]
    },
    {
      "cell_type": "markdown",
      "metadata": {},
      "source": [
        "# Step 2: Verify CUDA"
      ]
    },
    {
      "cell_type": "code",
      "execution_count": 46,
      "metadata": {},
      "outputs": [
        {
          "name": "stdout",
          "output_type": "stream",
          "text": [
            "CUDA Enabled: 1\n",
            "OpenCV Build Info:\n",
            "\n",
            "General configuration for OpenCV 4.11.0 =====================================\n",
            "  Version control:               unknown\n",
            "\n",
            "  Extra modules:\n",
            "    Location (extra):            D:/Programming/OpenCV/OpenCV-Contrib/opencv_contrib/modules\n",
            "    Version control (extra):     4.11.0-43-geebd8977\n",
            "\n",
            "  Platform:\n",
            "    Timestamp:                   2025-05-16T18:34:01Z\n",
            "    Host:                        Windows 10.0.19045 AMD64\n",
            "    CMake:                       4.0.2\n",
            "    CMake generator:             Visual Studio 17 2022\n",
            "    CMake build tool:            C:/Program Files/Visual studio/MSBuild/Current/Bin/amd64/MSBuild.exe\n",
            "    MSVC:                        1939\n",
            "    Configuration:               Release\n",
            "    Algorithm Hint:              ALGO_HINT_ACCURATE\n",
            "\n",
            "  CPU/HW features:\n",
            "    Baseline:                    SSE SSE2 SSE3\n",
            "      requested:                 SSE3\n",
            "    Dispatched code generation:  SSE4_1 SSE4_2 AVX FP16 AVX2 AVX512_SKX\n",
            "      SSE4_1 (18 files):         + SSSE3 SSE4_1\n",
            "      SSE4_2 (2 files):          + SSSE3 SSE4_1 POPCNT SSE4_2\n",
            "      AVX (9 files):             + SSSE3 SSE4_1 POPCNT SSE4_2 AVX\n",
            "      FP16 (1 files):            + SSSE3 SSE4_1 POPCNT SSE4_2 AVX FP16\n",
            "      AVX2 (38 files):           + SSSE3 SSE4_1 POPCNT SSE4_2 AVX FP16 AVX2 FMA3\n",
            "      AVX512_SKX (8 files):      + SSSE3 SSE4_1 POPCNT SSE4_2 AVX FP16 AVX2 FMA3 AVX_512F AVX512_COMMON AVX512_SKX\n",
            "\n",
            "  C/C++:\n",
            "    Built as dynamic libs?:      YES\n",
            "    C++ standard:                11\n",
            "    C++ Compiler:                C:/Program Files/Visual studio/VC/Tools/MSVC/14.39.33519/bin/Hostx64/x64/cl.exe  (ver 19.39.33523.0)\n",
            "    C++ flags (Release):         /DWIN32 /D_WINDOWS /W4 /GR  /D _CRT_SECURE_NO_DEPRECATE /D _CRT_NONSTDC_NO_DEPRECATE /D _SCL_SECURE_NO_WARNINGS /Gy /bigobj /Oi  /fp:fast    /EHa /wd4127 /wd4251 /wd4324 /wd4275 /wd4512 /wd4589 /wd4819 /MP  /O2 /Ob2 /DNDEBUG \n",
            "    C++ flags (Debug):           /DWIN32 /D_WINDOWS /W4 /GR  /D _CRT_SECURE_NO_DEPRECATE /D _CRT_NONSTDC_NO_DEPRECATE /D _SCL_SECURE_NO_WARNINGS /Gy /bigobj /Oi  /fp:fast    /EHa /wd4127 /wd4251 /wd4324 /wd4275 /wd4512 /wd4589 /wd4819 /MP  /Zi /Ob0 /Od /RTC1 \n",
            "    C Compiler:                  C:/Program Files/Visual studio/VC/Tools/MSVC/14.39.33519/bin/Hostx64/x64/cl.exe\n",
            "    C flags (Release):           /DWIN32 /D_WINDOWS /W3  /D _CRT_SECURE_NO_DEPRECATE /D _CRT_NONSTDC_NO_DEPRECATE /D _SCL_SECURE_NO_WARNINGS /Gy /bigobj /Oi  /fp:fast    /MP   /O2 /Ob2 /DNDEBUG \n",
            "    C flags (Debug):             /DWIN32 /D_WINDOWS /W3  /D _CRT_SECURE_NO_DEPRECATE /D _CRT_NONSTDC_NO_DEPRECATE /D _SCL_SECURE_NO_WARNINGS /Gy /bigobj /Oi  /fp:fast    /MP /Zi /Ob0 /Od /RTC1 \n",
            "    Linker flags (Release):      /machine:x64  /INCREMENTAL:NO \n",
            "    Linker flags (Debug):        /machine:x64  /debug /INCREMENTAL \n",
            "    ccache:                      NO\n",
            "    Precompiled headers:         NO\n",
            "    Extra dependencies:          cudart_static.lib nppc.lib nppial.lib nppicc.lib nppidei.lib nppif.lib nppig.lib nppim.lib nppist.lib nppisu.lib nppitc.lib npps.lib cublas.lib cudnn.lib cufft.lib -LIBPATH:C:/Program Files/NVIDIA GPU Computing Toolkit/CUDA/v11.7/lib/x64\n",
            "    3rdparty dependencies:\n",
            "\n",
            "  OpenCV modules:\n",
            "    To be built:                 aruco bgsegm bioinspired calib3d ccalib core cudaarithm cudabgsegm cudacodec cudafeatures2d cudafilters cudaimgproc cudalegacy cudaobjdetect cudaoptflow cudastereo cudawarping cudev datasets dnn dnn_objdetect dnn_superres dpm face features2d flann fuzzy gapi hfs highgui img_hash imgcodecs imgproc intensity_transform line_descriptor mcc ml objdetect optflow phase_unwrapping photo plot python3 quality rapid reg rgbd saliency shape signal stereo stitching structured_light superres surface_matching text tracking ts video videoio videostab wechat_qrcode world xfeatures2d ximgproc xobjdetect xphoto\n",
            "    Disabled:                    -\n",
            "    Disabled by dependency:      -\n",
            "    Unavailable:                 alphamat cannops cvv fastcv freetype hdf java julia matlab ovis python2 python2 sfm viz\n",
            "    Applications:                tests perf_tests apps\n",
            "    Documentation:               NO\n",
            "    Non-free algorithms:         NO\n",
            "\n",
            "  Windows RT support:            NO\n",
            "\n",
            "  GUI: \n",
            "    Win32 UI:                    YES\n",
            "    VTK support:                 NO\n",
            "\n",
            "  Media I/O: \n",
            "    ZLib:                        build (ver 1.3.1)\n",
            "    JPEG:                        build-libjpeg-turbo (ver 3.0.3-70)\n",
            "      SIMD Support Request:      YES\n",
            "      SIMD Support:              YES\n",
            "    WEBP:                        build (ver decoder: 0x0209, encoder: 0x020f, demux: 0x0107)\n",
            "    AVIF:                        NO\n",
            "    PNG:                         build (ver 1.6.43)\n",
            "      SIMD Support Request:      YES\n",
            "      SIMD Support:              YES (Intel SSE)\n",
            "    TIFF:                        build (ver 42 - 4.6.0)\n",
            "    JPEG 2000:                   build (ver 2.5.0)\n",
            "    OpenEXR:                     build (ver 2.3.0)\n",
            "    GIF:                         NO\n",
            "    HDR:                         YES\n",
            "    SUNRASTER:                   YES\n",
            "    PXM:                         YES\n",
            "    PFM:                         YES\n",
            "\n",
            "  Video I/O:\n",
            "    FFMPEG:                      YES (prebuilt binaries)\n",
            "      avcodec:                   YES (58.134.100)\n",
            "      avformat:                  YES (58.76.100)\n",
            "      avutil:                    YES (56.70.100)\n",
            "      swscale:                   YES (5.9.100)\n",
            "      avresample:                YES (4.0.0)\n",
            "    GStreamer:                   NO\n",
            "    DirectShow:                  YES\n",
            "    Media Foundation:            YES\n",
            "      DXVA:                      YES\n",
            "\n",
            "  Parallel framework:            Concurrency\n",
            "\n",
            "  Trace:                         YES (with Intel ITT)\n",
            "\n",
            "  Other third-party libraries:\n",
            "    Intel IPP:                   2021.12.0 [2021.12.0]\n",
            "           at:                   D:/Programming/OpenCV/Build/3rdparty/ippicv/ippicv_win/icv\n",
            "    Intel IPP IW:                sources (2021.12.0)\n",
            "              at:                D:/Programming/OpenCV/Build/3rdparty/ippicv/ippicv_win/iw\n",
            "    Lapack:                      NO\n",
            "    Eigen:                       NO\n",
            "    Custom HAL:                  NO\n",
            "    Protobuf:                    build (3.19.1)\n",
            "    Flatbuffers:                 builtin/3rdparty (23.5.9)\n",
            "\n",
            "  NVIDIA CUDA:                   YES (ver 11.7, CUFFT CUBLAS FAST_MATH)\n",
            "    NVIDIA GPU arch:             35 37 50 52 60 61 70 75 80 86\n",
            "    NVIDIA PTX archs:            86\n",
            "\n",
            "  cuDNN:                         YES (ver 8.6.0)\n",
            "\n",
            "  OpenCL:                        YES (NVD3D11)\n",
            "    Include path:                D:/Programming/OpenCV/Scource/opencv-4.11.0/3rdparty/include/opencl/1.2\n",
            "    Link libraries:              Dynamic load\n",
            "\n",
            "  Python 3:\n",
            "    Interpreter:                 D:/Programming/Python/Application/python.exe (ver 3.11.1)\n",
            "    Libraries:                   D:/Programming/Python/Application/libs/python311.lib (ver 3.11.1)\n",
            "    Limited API:                 NO\n",
            "    numpy:                       D:/Programming/Python/Application/Lib/site-packages/numpy/core/include (ver 1.23.5)\n",
            "    install path:                D:/Programming/Python/Application/Lib/site-packages/cv2/python-3.11\n",
            "\n",
            "  Python (for build):            D:/Programming/Python/Application/python.exe\n",
            "\n",
            "  Java:                          \n",
            "    ant:                         NO\n",
            "    Java:                        YES (ver 19.0.2)\n",
            "    JNI:                         D:/Programming/Java/JDk/Application/include D:/Programming/Java/JDk/Application/include/win32 D:/Programming/Java/JDk/Application/include\n",
            "    Java wrappers:               NO\n",
            "    Java tests:                  NO\n",
            "\n",
            "  Install to:                    D:/Programming/OpenCV/Build/install\n",
            "-----------------------------------------------------------------\n",
            "\n",
            "\n"
          ]
        }
      ],
      "source": [
        "print(\"CUDA Enabled:\", cv.cuda.getCudaEnabledDeviceCount())\n",
        "print(\"OpenCV Build Info:\")\n",
        "print(cv.getBuildInformation())"
      ]
    },
    {
      "cell_type": "markdown",
      "metadata": {
        "id": "wgCpBl64ujJy"
      },
      "source": [
        "# Step 3: Download Resources"
      ]
    },
    {
      "cell_type": "code",
      "execution_count": null,
      "metadata": {},
      "outputs": [],
      "source": [
        "gdown.download(id=\"1D3ytIZ-ZMMd5MbvVbf2Sn5oZ1L0aQ9IG\", output=\"pose_deploy_linevec_faster_4_stages.prototxt\", quiet=False)\n",
        "gdown.download(id=\"1f-fCSTg7qFHRVKGIptyPJsgNwRs4XDsK\", output=\"pose_iter_160000.caffemodel\", quiet=False)"
      ]
    },
    {
      "cell_type": "markdown",
      "metadata": {
        "id": "fl1i4ri25q1f"
      },
      "source": [
        "# Step 4: Load Models"
      ]
    },
    {
      "cell_type": "code",
      "execution_count": 47,
      "metadata": {
        "id": "wgk6EZNp5tMX"
      },
      "outputs": [],
      "source": [
        "protoFile = \"pose_deploy_linevec_faster_4_stages.prototxt\"\n",
        "weightsFile = \"pose_iter_160000.caffemodel\"\n",
        "\n",
        "net = cv.dnn.readNetFromCaffe(protoFile, weightsFile)\n",
        "net.setPreferableBackend(cv.dnn.DNN_BACKEND_CUDA)\n",
        "net.setPreferableTarget(cv.dnn.DNN_TARGET_CUDA)"
      ]
    },
    {
      "cell_type": "markdown",
      "metadata": {
        "id": "63KV7cg8z4wx"
      },
      "source": [
        "# Step 5: Set Body Points"
      ]
    },
    {
      "cell_type": "code",
      "execution_count": 48,
      "metadata": {
        "id": "zZ-Hg1DVNsWJ"
      },
      "outputs": [],
      "source": [
        "nPoints = 15\n",
        "POSE_PAIRS = [[0,1], [1,2], [2,3], [3,4], [1,5], [5,6], [6,7], [1,14], [14,8], [8,9], [9,10], [14,11], [11,12], [12,13]]"
      ]
    },
    {
      "cell_type": "markdown",
      "metadata": {
        "id": "1DK4Z_8VDyhe"
      },
      "source": [
        "# Step 6: Convert image to blob"
      ]
    },
    {
      "cell_type": "code",
      "execution_count": null,
      "metadata": {},
      "outputs": [],
      "source": [
        "# GPU based\n",
        "def convert_image_to_blob(frame):\n",
        "    return cv.dnn.blobFromImage(frame, 1.0/255, (256, 256), (0, 0, 0), swapRB=False, crop=False)"
      ]
    },
    {
      "cell_type": "markdown",
      "metadata": {
        "id": "sJsg4txyNsWM"
      },
      "source": [
        "# Step 7: Run Inference Async (forward pass)"
      ]
    },
    {
      "cell_type": "code",
      "execution_count": null,
      "metadata": {},
      "outputs": [],
      "source": [
        "# GPU based\n",
        "def run_inference():\n",
        "    if not hasattr(run_inference, '_warmed_up'):\n",
        "        net.forward()\n",
        "        run_inference._warmed_up = True\n",
        "\n",
        "    return net.forward()"
      ]
    },
    {
      "cell_type": "markdown",
      "metadata": {
        "id": "WDAJ-ZsuNsWN"
      },
      "source": [
        "# Step 8: Extract points"
      ]
    },
    {
      "cell_type": "code",
      "execution_count": null,
      "metadata": {
        "id": "QYqq1zME3Jwi"
      },
      "outputs": [],
      "source": [
        "# CPU based\n",
        "def extract_keypoints(output, height, width):\n",
        "    points = []\n",
        "    for i in range(15):\n",
        "        probMap = output[0, i, :, :]\n",
        "        _, _, _, max_loc = cv.minMaxLoc(probMap)\n",
        "        points.append((int(max_loc[0] * width / output.shape[3]), \n",
        "                       int(max_loc[1] * height / output.shape[2])))\n",
        "    return points"
      ]
    },
    {
      "cell_type": "markdown",
      "metadata": {
        "id": "4GtZSZ3lNsWN"
      },
      "source": [
        "# Step 9: Display Points & Skeleton"
      ]
    },
    {
      "cell_type": "code",
      "execution_count": null,
      "metadata": {
        "id": "3EatwTcX4wdY"
      },
      "outputs": [],
      "source": [
        "# CPU based\n",
        "def draw_skeleton(frame, points, POSE_PAIRS): \n",
        "    image_skeleton = frame.copy()\n",
        "\n",
        "    for pair in POSE_PAIRS:\n",
        "        partA, partB = pair\n",
        "        if points[partA] and points[partB]:\n",
        "            cv.line(image_skeleton, points[partA], points[partB], (255, 255, 0), 2)\n",
        "            cv.circle(image_skeleton, points[partA], 8, (255, 0, 0), thickness=-1, lineType=cv.FILLED)\n",
        "    return image_skeleton"
      ]
    },
    {
      "cell_type": "markdown",
      "metadata": {
        "id": "-HNcKXAseUo-"
      },
      "source": [
        "# Step 10: Classifying"
      ]
    },
    {
      "cell_type": "code",
      "execution_count": null,
      "metadata": {},
      "outputs": [],
      "source": [
        "# CPU based\n",
        "def calculate_angle(line):\n",
        "    point1 = line[0]\n",
        "    point2 = line[1]\n",
        "    if not point1 or not point2:\n",
        "        return None\n",
        "    \n",
        "    x1, y1 = point1\n",
        "    x2, y2 = point2\n",
        "    dx = x2 - x1\n",
        "    dy = y2 - y1\n",
        "    \n",
        "    angle_rad = math.atan2(dy, dx)\n",
        "    angle_deg = math.degrees(angle_rad)\n",
        "    if angle_deg < 0:\n",
        "        angle_deg += 360\n",
        "        \n",
        "    return angle_deg"
      ]
    },
    {
      "cell_type": "code",
      "execution_count": null,
      "metadata": {
        "id": "25PGd9RLeXhs"
      },
      "outputs": [],
      "source": [
        "def classify_pose(points): # CPU based\n",
        "    try:\n",
        "        # each points od body are (width, height)\n",
        "        head = points[0]\n",
        "        neck = points[1]\n",
        "        right_shoulder = points[2]\n",
        "        right_elbow = points[3]\n",
        "        right_wrist = points[4]\n",
        "        left_shoulder = points[5]\n",
        "        left_elbow = points[6]\n",
        "        left_wrist = points[7]\n",
        "        right_hip = points[8]\n",
        "        right_knee = points[9]\n",
        "        right_ankle = points[10]\n",
        "        left_hip = points[11]\n",
        "        left_knee = points[12]\n",
        "        left_ankle = points[13]\n",
        "        center = points[14]\n",
        "\n",
        "        # each line of the body\n",
        "        head_line = (head, neck)\n",
        "        right_shoulder_line = (neck, right_shoulder)\n",
        "        left_shoulder_line = (neck, left_shoulder)\n",
        "        torso_line = (neck, center)\n",
        "\n",
        "        right_upper_arm_line = (right_shoulder, right_elbow)\n",
        "        right_lower_arm_line = (right_elbow, right_wrist)\n",
        "        left_upper_arm_line = (left_shoulder, left_elbow)\n",
        "        left_lower_arm_line = (left_elbow, left_wrist)\n",
        "\n",
        "        right_thigh_line = (right_hip, right_knee)\n",
        "        right_shin_line = (right_knee, right_ankle)\n",
        "        left_thigh_line = (left_hip, left_knee)\n",
        "        left_shin_line = (left_knee, left_ankle)\n",
        "\n",
        "        right_hip_line = (center, right_hip)\n",
        "        left_hip_line = (center, left_hip)\n",
        "\n",
        "        if not neck or not center:\n",
        "            return \"none\"\n",
        "        \n",
        "        # detecting Position\n",
        "        torso_angle = calculate_angle(torso_line)\n",
        "        vertical_torso = False\n",
        "        horizental_torso = False\n",
        "        if (70 < torso_angle < 110):\n",
        "            vertical_torso = True\n",
        "        if (150 < torso_angle < 210) or (330 < torso_angle) or (torso_angle < 30):\n",
        "            horizental_torso = True\n",
        "\n",
        "        right_thigh_angle = calculate_angle(right_thigh_line)\n",
        "        vertical_right_thigh = False\n",
        "        horizental_right_thigh = False\n",
        "        if (70 < right_thigh_angle < 110):\n",
        "            vertical_right_thigh = True\n",
        "        if (150 < right_thigh_angle < 210) or (330 < right_thigh_angle) or (right_thigh_angle < 30):\n",
        "            horizental_right_thigh = True\n",
        "\n",
        "        left_thigh_angle = calculate_angle(left_thigh_line)\n",
        "        vertical_left_thigh = False\n",
        "        horizental_left_thigh = False\n",
        "        if (70 < left_thigh_angle < 110):\n",
        "            vertical_left_thigh = True\n",
        "        if (150 < left_thigh_angle < 210) or (330 < left_thigh_angle) or (left_thigh_angle < 30):\n",
        "            horizental_left_thigh = True\n",
        "        \n",
        "        # Standing gesture\n",
        "        if vertical_torso and vertical_right_thigh and vertical_left_thigh:\n",
        "            return \"standing\"\n",
        "\n",
        "        # Sitting gesture\n",
        "        if horizental_left_thigh and horizental_right_thigh and vertical_torso:\n",
        "            return \"sitting\"\n",
        "\n",
        "        # Laying gesture\n",
        "        if horizental_torso:\n",
        "            return \"laying\"\n",
        "\n",
        "    except:\n",
        "        return \"none\"\n",
        "\n",
        "    return \"none\""
      ]
    },
    {
      "cell_type": "markdown",
      "metadata": {},
      "source": [
        "# Step 11: Put every thing together"
      ]
    },
    {
      "cell_type": "code",
      "execution_count": 55,
      "metadata": {},
      "outputs": [],
      "source": [
        "def detect_gesture(frame, POSE_PAIRS):\n",
        "    blob = convert_image_to_blob(frame)\n",
        "    net.setInput(blob)\n",
        "    output = run_inference()\n",
        "    points = extract_keypoints(output, frame.shape[0], frame.shape[1])\n",
        "    frame_with_skeleton = draw_skeleton(frame, points, POSE_PAIRS)\n",
        "    label = classify_pose(points)\n",
        "    return frame_with_skeleton, label"
      ]
    },
    {
      "cell_type": "markdown",
      "metadata": {},
      "source": [
        "# Step 12: Run Live Gesture Detection"
      ]
    },
    {
      "cell_type": "code",
      "execution_count": 81,
      "metadata": {},
      "outputs": [],
      "source": [
        "cap = cv.VideoCapture(0)\n",
        "# cap = cv.VideoCapture('http://21.118.71.170:8080/video', cv.CAP_FFMPEG)\n",
        "cap.set(cv.CAP_PROP_FRAME_WIDTH, 640)\n",
        "cap.set(cv.CAP_PROP_FRAME_HEIGHT, 480)\n",
        "\n",
        "frame_count = 0\n",
        "skip_frames = 3\n",
        "\n",
        "prev_time = time.time()\n",
        "while True:\n",
        "    ret, frame = cap.read()\n",
        "    if not ret:\n",
        "        break\n",
        "\n",
        "    frame_count += 1\n",
        "    if frame_count % skip_frames != 0:\n",
        "        continue\n",
        "\n",
        "    frame = cv.flip(frame, 1)\n",
        "    frame = cv.resize(frame, (640, 480))\n",
        "    output_frame, label = detect_gesture(frame, POSE_PAIRS)\n",
        "\n",
        "    curr_time = time.time()\n",
        "    fps = 1 / (curr_time - prev_time)\n",
        "    prev_time = curr_time\n",
        "\n",
        "    cv.putText(output_frame, f\"FPS: {fps:.1f}\", (520, 30), \n",
        "                cv.FONT_HERSHEY_SIMPLEX, 0.7, (0, 255, 0), 2)\n",
        "\n",
        "    cv.putText(output_frame, label, (10, 30),\n",
        "               cv.FONT_HERSHEY_SIMPLEX, 1, (255, 0, 0), 2)\n",
        "    cv.imshow('Gesture Detection', output_frame)\n",
        "\n",
        "    k = cv.waitKey(5) & 0xFF\n",
        "    if k == 27:\n",
        "        break\n",
        "\n",
        "cv.destroyAllWindows()\n",
        "cap.release()"
      ]
    }
  ],
  "metadata": {
    "celltoolbar": "Slideshow",
    "colab": {
      "collapsed_sections": [
        "FCbJU1Imufkk",
        "wgCpBl64ujJy",
        "vXg8tuNN12Vr",
        "fl1i4ri25q1f",
        "1DK4Z_8VDyhe",
        "sJsg4txyNsWM",
        "WDAJ-ZsuNsWN",
        "4GtZSZ3lNsWN",
        "-HNcKXAseUo-"
      ],
      "provenance": []
    },
    "kernelspec": {
      "display_name": "Python 3",
      "language": "python",
      "name": "python3"
    },
    "language_info": {
      "codemirror_mode": {
        "name": "ipython",
        "version": 3
      },
      "file_extension": ".py",
      "mimetype": "text/x-python",
      "name": "python",
      "nbconvert_exporter": "python",
      "pygments_lexer": "ipython3",
      "version": "3.11.1"
    }
  },
  "nbformat": 4,
  "nbformat_minor": 0
}
